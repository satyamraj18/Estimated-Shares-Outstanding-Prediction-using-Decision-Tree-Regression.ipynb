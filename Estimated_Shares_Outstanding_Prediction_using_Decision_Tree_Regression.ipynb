{
  "nbformat": 4,
  "nbformat_minor": 0,
  "metadata": {
    "colab": {
      "name": "Estimated Shares Outstanding Prediction using Decision Tree Regression.ipynb",
      "provenance": [],
      "toc_visible": true,
      "authorship_tag": "ABX9TyPIY2w5YaByKpSjqNf74oZ7",
      "include_colab_link": true
    },
    "kernelspec": {
      "name": "python3",
      "display_name": "Python 3"
    },
    "language_info": {
      "name": "python"
    }
  },
  "cells": [
    {
      "cell_type": "markdown",
      "metadata": {
        "id": "view-in-github",
        "colab_type": "text"
      },
      "source": [
        "<a href=\"https://colab.research.google.com/github/satyamraj18/Estimated-Shares-Outstanding-Prediction-using-Decision-Tree-Regression.ipynb/blob/main/Estimated_Shares_Outstanding_Prediction_using_Decision_Tree_Regression.ipynb\" target=\"_parent\"><img src=\"https://colab.research.google.com/assets/colab-badge.svg\" alt=\"Open In Colab\"/></a>"
      ]
    },
    {
      "cell_type": "markdown",
      "metadata": {
        "id": "Mqlhw99etUnZ"
      },
      "source": [
        "## Import the Packages"
      ]
    },
    {
      "cell_type": "code",
      "metadata": {
        "id": "th39CvcXtIF3"
      },
      "source": [
        "import numpy as np\n",
        "import matplotlib.pyplot as plt\n",
        "import pandas as pd"
      ],
      "execution_count": 80,
      "outputs": []
    },
    {
      "cell_type": "markdown",
      "metadata": {
        "id": "62PhBGrBti9N"
      },
      "source": [
        "## Import the dataset"
      ]
    },
    {
      "cell_type": "code",
      "metadata": {
        "id": "xwU5cCvQtlf2"
      },
      "source": [
        "dataset = pd.read_csv(\"fundamentals.csv\")\n",
        "dataset = dataset.drop(['For Year'],axis=1)"
      ],
      "execution_count": 81,
      "outputs": []
    },
    {
      "cell_type": "code",
      "metadata": {
        "colab": {
          "base_uri": "https://localhost:8080/"
        },
        "id": "uhktsBRy-u7N",
        "outputId": "ab3eb131-e1a1-49ba-8109-c930eac0159a"
      },
      "source": [
        "dataset.shape"
      ],
      "execution_count": 82,
      "outputs": [
        {
          "output_type": "execute_result",
          "data": {
            "text/plain": [
              "(1781, 78)"
            ]
          },
          "metadata": {
            "tags": []
          },
          "execution_count": 82
        }
      ]
    },
    {
      "cell_type": "code",
      "metadata": {
        "id": "zd4KcNfz-klE"
      },
      "source": [
        "dataset = dataset.fillna(dataset.mean()) #Handling missing data"
      ],
      "execution_count": 83,
      "outputs": []
    },
    {
      "cell_type": "code",
      "metadata": {
        "id": "pA0CvTW4-gD1"
      },
      "source": [
        "X = dataset.iloc[:, 3:-1].values\n",
        "y = dataset.iloc[:, -1].values"
      ],
      "execution_count": 84,
      "outputs": []
    },
    {
      "cell_type": "code",
      "metadata": {
        "colab": {
          "base_uri": "https://localhost:8080/"
        },
        "id": "ayWolT_X1_ul",
        "outputId": "a3f12657-9574-40f9-f48c-838fcf8798fe"
      },
      "source": [
        "dataset.isnull().sum(axis=0) #Number of data that is null for each column"
      ],
      "execution_count": 85,
      "outputs": [
        {
          "output_type": "execute_result",
          "data": {
            "text/plain": [
              "Unnamed: 0                      0\n",
              "Ticker Symbol                   0\n",
              "Period Ending                   0\n",
              "Accounts Payable                0\n",
              "Accounts Receivable             0\n",
              "                               ..\n",
              "Total Liabilities & Equity      0\n",
              "Total Revenue                   0\n",
              "Treasury Stock                  0\n",
              "Earnings Per Share              0\n",
              "Estimated Shares Outstanding    0\n",
              "Length: 78, dtype: int64"
            ]
          },
          "metadata": {
            "tags": []
          },
          "execution_count": 85
        }
      ]
    },
    {
      "cell_type": "markdown",
      "metadata": {
        "id": "NZ6PyIP-8S-E"
      },
      "source": [
        "## Splitting the dataset"
      ]
    },
    {
      "cell_type": "code",
      "metadata": {
        "id": "s4Aiwijn8VP0"
      },
      "source": [
        "from sklearn.model_selection import train_test_split\n",
        "X_train,X_test,y_train,y_test = train_test_split(X,y,test_size=0.2,random_state=1)"
      ],
      "execution_count": 86,
      "outputs": []
    },
    {
      "cell_type": "markdown",
      "metadata": {
        "id": "RdBVstHT8z-k"
      },
      "source": [
        "##Feature Scaling"
      ]
    },
    {
      "cell_type": "code",
      "metadata": {
        "id": "hI_C-F-O82R5"
      },
      "source": [
        "#Scaling Independent Variables\n",
        "from sklearn.preprocessing import StandardScaler\n",
        "sc_x = StandardScaler()\n",
        "X_train = sc_x.fit_transform(X_train)\n",
        "X_test = sc_x.fit_transform(X_test)"
      ],
      "execution_count": 87,
      "outputs": []
    },
    {
      "cell_type": "code",
      "metadata": {
        "id": "zqQH26hi_0xh"
      },
      "source": [
        "#Scaling Dependent Variables\n",
        "from sklearn.preprocessing import StandardScaler\n",
        "sc_y = StandardScaler()\n",
        "y_train = y_train.reshape(len(y_train),1)\n",
        "y_test = y_test.reshape(len(y_test),1)\n",
        "y_train = sc_y.fit_transform(y_train)\n",
        "y_test = sc_y.fit_transform(y_test)"
      ],
      "execution_count": 88,
      "outputs": []
    },
    {
      "cell_type": "markdown",
      "metadata": {
        "id": "1aAq5AQhAVMb"
      },
      "source": [
        "##Training the Model"
      ]
    },
    {
      "cell_type": "code",
      "metadata": {
        "colab": {
          "base_uri": "https://localhost:8080/"
        },
        "id": "z6p5K-70AcOU",
        "outputId": "9ad6b774-1520-4ac3-a65e-57a6c102644f"
      },
      "source": [
        "from sklearn.ensemble import RandomForestRegressor\n",
        "regressor = RandomForestRegressor(n_estimators = 100,random_state=1)\n",
        "regressor.fit(X_train,y_train)"
      ],
      "execution_count": 89,
      "outputs": [
        {
          "output_type": "stream",
          "text": [
            "/usr/local/lib/python3.7/dist-packages/ipykernel_launcher.py:3: DataConversionWarning: A column-vector y was passed when a 1d array was expected. Please change the shape of y to (n_samples,), for example using ravel().\n",
            "  This is separate from the ipykernel package so we can avoid doing imports until\n"
          ],
          "name": "stderr"
        },
        {
          "output_type": "execute_result",
          "data": {
            "text/plain": [
              "RandomForestRegressor(bootstrap=True, ccp_alpha=0.0, criterion='mse',\n",
              "                      max_depth=None, max_features='auto', max_leaf_nodes=None,\n",
              "                      max_samples=None, min_impurity_decrease=0.0,\n",
              "                      min_impurity_split=None, min_samples_leaf=1,\n",
              "                      min_samples_split=2, min_weight_fraction_leaf=0.0,\n",
              "                      n_estimators=100, n_jobs=None, oob_score=False,\n",
              "                      random_state=1, verbose=0, warm_start=False)"
            ]
          },
          "metadata": {
            "tags": []
          },
          "execution_count": 89
        }
      ]
    },
    {
      "cell_type": "markdown",
      "metadata": {
        "id": "pnJ55-AIC2Bp"
      },
      "source": [
        "##Visualizing the results"
      ]
    },
    {
      "cell_type": "code",
      "metadata": {
        "colab": {
          "base_uri": "https://localhost:8080/"
        },
        "id": "JJ3WyEI6C6F4",
        "outputId": "911b61f5-7441-4400-d59a-6182d35138d0"
      },
      "source": [
        "np.set_printoptions(precision=2)\n",
        "print(np.concatenate(((sc_y.inverse_transform(regressor.predict(X_test))).reshape(len(y_test),1),sc_y.inverse_transform(y_test.reshape(len(y_test),1))),1))"
      ],
      "execution_count": 90,
      "outputs": [
        {
          "output_type": "stream",
          "text": [
            "[[ 7.17e+08 -1.08e+09]\n",
            " [ 1.08e+08  1.44e+08]\n",
            " [ 5.83e+08  5.27e+08]\n",
            " [ 1.08e+09  7.53e+08]\n",
            " [ 5.83e+08  5.62e+08]\n",
            " [ 5.72e+08  4.84e+08]\n",
            " [ 3.47e+08  3.00e+08]\n",
            " [ 3.45e+08  1.57e+08]\n",
            " [ 5.61e+07  1.19e+08]\n",
            " [ 5.72e+08  5.38e+08]\n",
            " [ 6.07e+08  5.44e+08]\n",
            " [ 1.20e+09  1.79e+09]\n",
            " [ 1.27e+09  1.62e+09]\n",
            " [ 2.10e+08  6.02e+08]\n",
            " [ 1.52e+09  6.02e+08]\n",
            " [ 7.33e+08  5.68e+08]\n",
            " [ 1.05e+09  6.02e+08]\n",
            " [ 4.92e+08  5.51e+08]\n",
            " [ 1.40e+07  5.81e+07]\n",
            " [ 2.61e+08  2.93e+08]\n",
            " [ 7.13e+07  1.18e+08]\n",
            " [ 3.28e+08  4.32e+08]\n",
            " [ 1.06e+09  1.16e+09]\n",
            " [ 4.70e+07  1.01e+08]\n",
            " [ 9.26e+07  1.42e+08]\n",
            " [ 1.07e+08  6.02e+08]\n",
            " [ 1.95e+08  1.85e+08]\n",
            " [ 8.73e+08  9.00e+08]\n",
            " [ 2.47e+08  2.62e+08]\n",
            " [ 1.29e+09  2.88e+09]\n",
            " [ 5.88e+08  3.41e+08]\n",
            " [ 1.03e+08  6.02e+08]\n",
            " [ 2.81e+08  6.63e+07]\n",
            " [ 8.58e+08  6.02e+08]\n",
            " [ 1.11e+08  1.47e+08]\n",
            " [ 2.93e+08  4.45e+08]\n",
            " [ 4.37e+08  3.60e+08]\n",
            " [ 5.00e+08  1.28e+08]\n",
            " [ 1.59e+08  2.03e+08]\n",
            " [ 4.03e+08  1.04e+08]\n",
            " [ 1.43e+08  1.25e+08]\n",
            " [ 4.97e+08  5.39e+08]\n",
            " [ 3.38e+08  2.43e+08]\n",
            " [ 2.35e+08  2.45e+08]\n",
            " [ 5.96e+08  4.63e+08]\n",
            " [ 5.55e+07  6.02e+08]\n",
            " [ 1.43e+08  1.79e+08]\n",
            " [ 2.53e+08  6.55e+08]\n",
            " [ 1.75e+08  1.46e+08]\n",
            " [ 1.59e+08  1.49e+08]\n",
            " [ 3.10e+08  2.45e+08]\n",
            " [ 1.61e+08  2.35e+08]\n",
            " [ 8.58e+08  1.98e+09]\n",
            " [ 3.69e+08  6.02e+08]\n",
            " [ 1.34e+08  1.58e+08]\n",
            " [ 4.70e+09  6.02e+08]\n",
            " [ 2.42e+08  2.87e+08]\n",
            " [ 9.21e+08  4.30e+08]\n",
            " [ 1.02e+08  1.49e+08]\n",
            " [ 2.15e+07  8.60e+07]\n",
            " [ 7.26e+07  7.77e+07]\n",
            " [ 5.61e+08  5.53e+08]\n",
            " [ 4.03e+07  1.03e+08]\n",
            " [ 4.57e+08  6.76e+08]\n",
            " [ 1.47e+08  2.13e+08]\n",
            " [ 3.46e+08  1.83e+08]\n",
            " [ 4.76e+08  4.35e+08]\n",
            " [ 6.00e+07  8.04e+07]\n",
            " [ 8.80e+07  6.02e+08]\n",
            " [ 9.39e+08  6.02e+08]\n",
            " [ 3.41e+08  3.14e+08]\n",
            " [ 1.60e+08  2.03e+08]\n",
            " [ 1.82e+08  2.46e+08]\n",
            " [ 7.26e+08  4.36e+08]\n",
            " [ 1.08e+09  1.33e+09]\n",
            " [ 2.64e+08  1.30e+08]\n",
            " [ 1.72e+08  2.47e+08]\n",
            " [ 9.61e+07  6.02e+08]\n",
            " [ 8.50e+08  7.32e+08]\n",
            " [ 2.85e+08  2.32e+08]\n",
            " [ 6.36e+06  6.70e+07]\n",
            " [-3.20e+06  6.02e+08]\n",
            " [ 9.38e+08  9.93e+08]\n",
            " [ 3.22e+08  6.02e+08]\n",
            " [ 2.31e+08  2.85e+08]\n",
            " [ 3.36e+08  3.41e+08]\n",
            " [ 4.86e+06  7.95e+07]\n",
            " [ 2.61e+08  6.02e+08]\n",
            " [ 1.26e+09  1.38e+09]\n",
            " [ 4.54e+08  4.87e+08]\n",
            " [ 6.83e+08  6.61e+08]\n",
            " [ 2.57e+08  2.25e+08]\n",
            " [ 5.35e+08  6.02e+08]\n",
            " [ 3.75e+08  4.42e+08]\n",
            " [ 2.54e+08  1.50e+08]\n",
            " [ 4.29e+08  6.03e+08]\n",
            " [ 6.53e+08  4.57e+08]\n",
            " [ 2.70e+08  2.36e+08]\n",
            " [ 8.05e+08  1.64e+08]\n",
            " [ 1.01e+07  6.02e+08]\n",
            " [ 3.78e+08  4.58e+08]\n",
            " [ 1.02e+08  1.45e+08]\n",
            " [ 2.77e+09  2.53e+09]\n",
            " [ 1.07e+07  7.10e+07]\n",
            " [ 2.47e+08  1.61e+08]\n",
            " [ 1.10e+09  1.34e+09]\n",
            " [ 6.78e+08  6.53e+08]\n",
            " [ 7.22e+08  6.72e+08]\n",
            " [ 8.34e+08  7.60e+08]\n",
            " [ 4.64e+08  3.47e+08]\n",
            " [ 3.58e+08  3.29e+08]\n",
            " [ 4.86e+07  8.84e+07]\n",
            " [ 2.51e+08  1.79e+08]\n",
            " [ 1.22e+08  1.48e+08]\n",
            " [ 3.50e+08  1.67e+08]\n",
            " [-2.19e+06  6.02e+08]\n",
            " [ 4.19e+07  1.14e+08]\n",
            " [ 3.37e+08  6.02e+08]\n",
            " [ 3.27e+09  1.92e+09]\n",
            " [ 3.46e+08  3.51e+08]\n",
            " [ 1.03e+08  2.17e+08]\n",
            " [ 7.33e+08  6.02e+08]\n",
            " [ 5.18e+08  5.41e+08]\n",
            " [ 1.02e+08  6.02e+08]\n",
            " [ 2.06e+08  2.71e+08]\n",
            " [ 1.43e+08  6.02e+08]\n",
            " [ 3.17e+08  1.85e+08]\n",
            " [ 1.59e+09  1.12e+09]\n",
            " [-1.63e+06  6.02e+08]\n",
            " [ 5.99e+08  5.87e+08]\n",
            " [ 1.16e+08  1.48e+08]\n",
            " [ 3.77e+07  8.71e+07]\n",
            " [ 1.47e+08  1.96e+08]\n",
            " [ 6.99e+07  1.13e+08]\n",
            " [ 3.22e+08  4.62e+08]\n",
            " [ 3.25e+08  2.80e+08]\n",
            " [ 1.95e+09  1.59e+09]\n",
            " [ 1.07e+09  1.22e+09]\n",
            " [ 5.29e+08  5.49e+08]\n",
            " [ 6.02e+08  6.14e+08]\n",
            " [ 1.29e+07  6.02e+08]\n",
            " [ 9.09e+07  1.52e+08]\n",
            " [ 3.15e+09  5.66e+08]\n",
            " [-1.92e+08  1.61e+08]\n",
            " [ 1.48e+08  1.86e+08]\n",
            " [ 3.99e+07  9.17e+07]\n",
            " [ 8.71e+07  1.32e+08]\n",
            " [-2.50e+07  3.69e+07]\n",
            " [ 3.40e+08  3.41e+08]\n",
            " [ 2.73e+08  2.89e+08]\n",
            " [ 1.79e+08  3.86e+08]\n",
            " [ 4.94e+09  4.90e+09]\n",
            " [ 4.57e+08  4.14e+08]\n",
            " [ 9.52e+07  1.35e+08]\n",
            " [ 3.78e+08  2.93e+08]\n",
            " [ 1.53e+08  1.30e+08]\n",
            " [ 2.74e+08  2.58e+08]\n",
            " [ 2.59e+08  2.96e+08]\n",
            " [ 1.77e+08  1.31e+08]\n",
            " [ 6.34e+08  6.02e+08]\n",
            " [ 1.02e+09  8.49e+08]\n",
            " [ 4.86e+08  5.46e+08]\n",
            " [ 5.38e+08  4.59e+08]\n",
            " [ 6.74e+08  3.41e+08]\n",
            " [ 2.64e+07  9.96e+07]\n",
            " [ 1.72e+06  6.02e+08]\n",
            " [ 8.76e+08  6.02e+08]\n",
            " [ 5.02e+07  1.10e+08]\n",
            " [ 2.84e+08  3.12e+08]\n",
            " [ 3.10e+08  6.02e+08]\n",
            " [ 4.21e+07  6.02e+08]\n",
            " [ 3.69e+08  1.81e+08]\n",
            " [ 1.04e+07  6.02e+08]\n",
            " [ 1.28e+08  6.02e+08]\n",
            " [ 1.53e+08  2.19e+08]\n",
            " [ 9.02e+08  7.10e+08]\n",
            " [ 3.45e+08  2.44e+08]\n",
            " [ 8.51e+09  1.61e+10]\n",
            " [-2.03e+07  4.36e+07]\n",
            " [ 1.35e+07  8.52e+07]\n",
            " [ 4.12e+08  4.64e+08]\n",
            " [ 2.62e+08  2.09e+08]\n",
            " [ 1.87e+08  1.96e+08]\n",
            " [ 6.61e+07  1.43e+08]\n",
            " [ 8.10e+08  6.02e+08]\n",
            " [ 3.20e+09  4.35e+09]\n",
            " [ 1.61e+09  1.54e+09]\n",
            " [ 1.30e+08  1.95e+08]\n",
            " [ 7.31e+08  7.22e+08]\n",
            " [ 5.79e+08  4.42e+08]\n",
            " [ 3.17e+07  5.44e+07]\n",
            " [ 4.32e+08  6.02e+08]\n",
            " [ 3.76e+07  7.22e+07]\n",
            " [ 8.01e+07  1.37e+08]\n",
            " [ 6.36e+08  6.02e+08]\n",
            " [ 4.53e+08  3.61e+08]\n",
            " [ 1.38e+07  6.02e+08]\n",
            " [ 9.38e+07  9.74e+07]\n",
            " [ 6.19e+08  5.42e+08]\n",
            " [ 1.43e+08  2.12e+08]\n",
            " [ 1.26e+09  1.24e+09]\n",
            " [ 2.50e+08  1.96e+08]\n",
            " [ 3.89e+08  4.10e+08]\n",
            " [ 6.33e+09  9.25e+08]\n",
            " [ 9.16e+06  8.02e+07]\n",
            " [ 1.49e+08  1.47e+08]\n",
            " [ 4.32e+07  9.88e+07]\n",
            " [ 4.23e+08  2.99e+08]\n",
            " [ 2.27e+08  1.86e+08]\n",
            " [ 5.68e+08  3.64e+08]\n",
            " [ 1.06e+08  5.23e+07]\n",
            " [ 7.07e+07  1.49e+08]\n",
            " [ 3.39e+08  3.36e+08]\n",
            " [ 3.77e+07  2.02e+08]\n",
            " [ 1.01e+07  6.02e+08]\n",
            " [ 2.75e+06  7.05e+07]\n",
            " [ 4.76e+08  4.16e+08]\n",
            " [ 1.98e+08  1.59e+08]\n",
            " [ 8.22e+08  8.66e+08]\n",
            " [ 2.83e+08  1.27e+08]\n",
            " [ 7.82e+08  6.96e+08]\n",
            " [ 3.57e+08  3.34e+08]\n",
            " [ 6.10e+07  1.07e+08]\n",
            " [ 5.16e+08  5.05e+08]\n",
            " [ 5.87e+09  5.63e+09]\n",
            " [ 5.88e+07  2.29e+08]\n",
            " [ 1.10e+08  5.09e+07]\n",
            " [ 5.31e+08  6.42e+08]\n",
            " [ 9.28e+07  1.66e+08]\n",
            " [ 7.78e+08  8.66e+08]\n",
            " [ 6.92e+08  6.02e+08]\n",
            " [ 1.26e+09  1.48e+09]\n",
            " [ 2.36e+08  6.02e+08]\n",
            " [ 4.66e+08  1.93e+09]\n",
            " [ 1.51e+08  1.17e+08]\n",
            " [ 2.01e+08  2.01e+08]\n",
            " [ 1.53e+08  1.74e+08]\n",
            " [ 3.83e+08  4.47e+08]\n",
            " [ 1.58e+09  1.57e+09]\n",
            " [ 8.40e+07  9.77e+07]\n",
            " [ 2.88e+08  2.96e+08]\n",
            " [ 3.27e+09  2.81e+09]\n",
            " [ 8.68e+08  6.75e+08]\n",
            " [ 3.10e+09  4.51e+09]\n",
            " [ 5.77e+08  8.49e+08]\n",
            " [ 6.12e+08  6.68e+08]\n",
            " [ 3.02e+07  9.02e+07]\n",
            " [ 1.87e+09  2.03e+09]\n",
            " [ 1.59e+08  2.00e+08]\n",
            " [ 5.19e+08  6.80e+08]\n",
            " [ 1.60e+08  2.14e+08]\n",
            " [ 3.88e+07  4.92e+07]\n",
            " [ 6.91e+08  5.07e+08]\n",
            " [ 3.98e+08  1.27e+08]\n",
            " [ 1.38e+08  1.40e+08]\n",
            " [ 3.10e+08  2.83e+08]\n",
            " [ 6.29e+08  6.02e+08]\n",
            " [ 1.98e+08  1.90e+08]\n",
            " [ 1.20e+09  6.95e+08]\n",
            " [-6.01e+05  7.20e+07]\n",
            " [ 1.59e+08  2.48e+08]\n",
            " [ 2.68e+08  1.85e+08]\n",
            " [ 5.83e+07  6.80e+07]\n",
            " [ 2.90e+08  4.05e+08]\n",
            " [ 1.11e+08  1.05e+08]\n",
            " [ 5.56e+08  2.93e+08]\n",
            " [ 6.28e+08  3.33e+08]\n",
            " [ 8.20e+09  8.18e+09]\n",
            " [ 3.75e+09  3.98e+09]\n",
            " [ 9.35e+08  6.02e+08]\n",
            " [ 1.10e+08  3.35e+08]\n",
            " [ 5.20e+06  6.02e+08]\n",
            " [ 1.59e+08  1.43e+08]\n",
            " [ 5.61e+08  6.18e+08]\n",
            " [ 2.41e+08  1.82e+08]\n",
            " [ 1.36e+08  6.02e+08]\n",
            " [ 1.34e+08  1.63e+08]\n",
            " [ 7.00e+08  2.25e+09]\n",
            " [ 1.16e+09  9.31e+08]\n",
            " [ 4.12e+08  6.02e+08]\n",
            " [ 7.81e+07  1.39e+08]\n",
            " [ 1.49e+09  1.28e+09]\n",
            " [ 9.10e+07  1.09e+08]\n",
            " [ 1.30e+09  1.11e+09]\n",
            " [ 3.11e+07  1.04e+08]\n",
            " [ 4.75e+08  6.78e+08]\n",
            " [ 4.60e+08  2.91e+08]\n",
            " [ 6.34e+08  5.44e+08]\n",
            " [ 7.34e+07  7.93e+07]\n",
            " [ 3.56e+08  1.49e+08]\n",
            " [ 7.14e+08  6.70e+08]\n",
            " [ 4.07e+09  3.27e+09]\n",
            " [ 6.05e+07  6.70e+07]\n",
            " [ 2.53e+08  2.07e+08]\n",
            " [ 4.64e+09  4.63e+09]\n",
            " [ 9.01e+07  1.36e+08]\n",
            " [ 1.00e+07  7.07e+07]\n",
            " [ 8.66e+06  7.11e+07]\n",
            " [ 2.26e+08  2.44e+08]\n",
            " [ 4.20e+07  9.99e+07]\n",
            " [ 2.11e+09  1.18e+09]\n",
            " [ 5.42e+07  1.11e+08]\n",
            " [ 2.13e+08  1.91e+08]\n",
            " [ 4.99e+06  8.14e+07]\n",
            " [ 5.37e+07  1.19e+08]\n",
            " [ 2.45e+08  1.89e+08]\n",
            " [ 5.06e+08  4.91e+08]\n",
            " [ 1.72e+07  9.08e+07]\n",
            " [ 5.35e+09  5.81e+09]\n",
            " [ 2.35e+08  8.08e+07]\n",
            " [ 2.78e+08  1.70e+08]\n",
            " [ 1.08e+09  6.02e+08]\n",
            " [ 3.00e+08  2.71e+08]\n",
            " [ 8.67e+07  1.37e+08]\n",
            " [ 1.92e+08  1.60e+08]\n",
            " [ 7.19e+08  7.02e+08]\n",
            " [ 9.98e+07  1.60e+08]\n",
            " [ 1.14e+09  8.03e+08]\n",
            " [ 7.05e+08  9.92e+08]\n",
            " [-1.48e+07  3.66e+07]\n",
            " [ 1.67e+08  8.68e+07]\n",
            " [ 3.15e+08  2.27e+08]\n",
            " [ 2.80e+08  2.66e+08]\n",
            " [ 1.72e+09  1.43e+09]\n",
            " [ 2.26e+08  2.33e+08]\n",
            " [ 4.83e+08  4.21e+08]\n",
            " [ 8.10e+08  7.97e+08]\n",
            " [ 5.77e+08  2.65e+08]\n",
            " [ 5.33e+08  6.02e+08]\n",
            " [ 5.08e+08  3.61e+08]\n",
            " [ 5.24e+09  5.56e+09]\n",
            " [ 2.91e+08  3.59e+08]\n",
            " [ 2.77e+08  3.09e+08]\n",
            " [ 4.49e+08  4.39e+08]\n",
            " [ 4.55e+08  4.82e+08]\n",
            " [ 2.64e+08  2.92e+08]\n",
            " [ 5.32e+08  4.37e+08]\n",
            " [ 4.45e+08  6.02e+08]\n",
            " [ 1.49e+08  2.17e+08]\n",
            " [ 9.98e+07  1.29e+08]\n",
            " [ 4.47e+07  5.54e+07]\n",
            " [ 9.98e+07  9.11e+07]\n",
            " [ 1.34e+08  9.29e+07]\n",
            " [ 2.34e+07  4.29e+07]\n",
            " [ 4.82e+08  4.94e+08]\n",
            " [-1.86e+07  6.02e+08]\n",
            " [ 3.10e+08  3.22e+08]\n",
            " [ 4.70e+08  3.00e+08]\n",
            " [ 8.94e+07  1.29e+08]\n",
            " [ 1.22e+08  1.75e+08]\n",
            " [ 4.84e+09  4.28e+09]\n",
            " [-2.54e+07  3.85e+07]\n",
            " [ 2.43e+08  2.92e+08]\n",
            " [ 3.19e+07  6.02e+08]\n",
            " [ 4.19e+08  3.21e+08]\n",
            " [ 1.60e+08  1.38e+08]\n",
            " [ 2.76e+08  3.49e+08]]\n"
          ],
          "name": "stdout"
        }
      ]
    },
    {
      "cell_type": "markdown",
      "metadata": {
        "id": "uD5MtSTZDdTe"
      },
      "source": [
        "## Evaluating the Performance of the model"
      ]
    },
    {
      "cell_type": "code",
      "metadata": {
        "colab": {
          "base_uri": "https://localhost:8080/"
        },
        "id": "YHnov20nDkg_",
        "outputId": "327fa895-9f58-4b06-d439-dd166a7b500d"
      },
      "source": [
        "from sklearn.metrics import r2_score,mean_squared_error,mean_absolute_error\n",
        "import math\n",
        "y_pred = regressor.predict(X_test)\n",
        "print(r2_score(y_test,y_pred))\n",
        "print(mean_squared_error(y_test, y_pred))\n",
        "print(math.sqrt(mean_squared_error(y_test, y_pred)))\n",
        "print(mean_absolute_error(y_test, y_pred))"
      ],
      "execution_count": 91,
      "outputs": [
        {
          "output_type": "stream",
          "text": [
            "0.7355659528095313\n",
            "0.26443404719046865\n",
            "0.5142315112772345\n",
            "0.18175035889194585\n"
          ],
          "name": "stdout"
        }
      ]
    }
  ]
}